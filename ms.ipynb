{
  "nbformat": 4,
  "nbformat_minor": 0,
  "metadata": {
    "colab": {
      "provenance": [],
      "authorship_tag": "ABX9TyNhh5knGVTK1K8SY5ks5R9R",
      "include_colab_link": true
    },
    "kernelspec": {
      "name": "python3",
      "display_name": "Python 3"
    },
    "language_info": {
      "name": "python"
    }
  },
  "cells": [
    {
      "cell_type": "markdown",
      "metadata": {
        "id": "view-in-github",
        "colab_type": "text"
      },
      "source": [
        "<a href=\"https://colab.research.google.com/github/lepaque/odmy/blob/master/ms.ipynb\" target=\"_parent\"><img src=\"https://colab.research.google.com/assets/colab-badge.svg\" alt=\"Open In Colab\"/></a>"
      ]
    },
    {
      "cell_type": "code",
      "execution_count": null,
      "metadata": {
        "id": "-ahcvW_G_wLL",
        "colab": {
          "base_uri": "https://localhost:8080/",
          "height": 363
        },
        "outputId": "439a1172-bcd8-4f43-a50b-55ec017d0061"
      },
      "outputs": [
        {
          "output_type": "error",
          "ename": "NameError",
          "evalue": "name 'cursor' is not defined",
          "traceback": [
            "\u001b[0;31m---------------------------------------------------------------------------\u001b[0m",
            "\u001b[0;31mNameError\u001b[0m                                 Traceback (most recent call last)",
            "\u001b[0;32m<ipython-input-1-9aa5ca2876d8>\u001b[0m in \u001b[0;36m<cell line: 1>\u001b[0;34m()\u001b[0m\n\u001b[0;32m----> 1\u001b[0;31m \u001b[0mcursor\u001b[0m\u001b[0;34m.\u001b[0m\u001b[0mexecute\u001b[0m\u001b[0;34m(\u001b[0m\u001b[0;34m\"SELECT * FROM users WHERE country_of_residence = 'France'\"\u001b[0m\u001b[0;34m)\u001b[0m\u001b[0;34m\u001b[0m\u001b[0;34m\u001b[0m\u001b[0m\n\u001b[0m\u001b[1;32m      2\u001b[0m \u001b[0mrows\u001b[0m \u001b[0;34m=\u001b[0m \u001b[0mcursor\u001b[0m\u001b[0;34m.\u001b[0m\u001b[0mfetchall\u001b[0m\u001b[0;34m(\u001b[0m\u001b[0;34m)\u001b[0m\u001b[0;34m\u001b[0m\u001b[0;34m\u001b[0m\u001b[0m\n\u001b[1;32m      3\u001b[0m \u001b[0;32mimport\u001b[0m \u001b[0msqlite3\u001b[0m\u001b[0;34m\u001b[0m\u001b[0;34m\u001b[0m\u001b[0m\n\u001b[1;32m      4\u001b[0m \u001b[0;34m\u001b[0m\u001b[0m\n\u001b[1;32m      5\u001b[0m \u001b[0;31m# Create an in-memory database\u001b[0m\u001b[0;34m\u001b[0m\u001b[0;34m\u001b[0m\u001b[0m\n",
            "\u001b[0;31mNameError\u001b[0m: name 'cursor' is not defined"
          ]
        }
      ],
      "source": [
        "cursor.execute(\"SELECT * FROM users WHERE country_of_residence = 'France'\")\n",
        "rows = cursor.fetchall()\n",
        "import sqlite3\n",
        "\n",
        "# Create an in-memory database\n",
        "conn = sqlite3.connect(':memory:')\n",
        "cursor = conn.cursor()\n",
        "\n",
        "# Create the users table\n",
        "cursor.execute('''\n",
        "CREATE TABLE users (\n",
        "    id INTEGER PRIMARY KEY AUTOINCREMENT,\n",
        "    name TEXT,\n",
        "    country_of_citizenship TEXT,\n",
        "    country_of_residence TEXT,\n",
        "    passport_number TEXT,\n",
        "    passport_issuing_country TEXT,\n",
        "    passport_expiration_date TEXT,\n",
        "    visa_type TEXT,\n",
        "    visa_issuing_country TEXT,\n",
        "    visa_expiration_date TEXT,\n",
        "    national_id_number TEXT,\n",
        "    international_address TEXT,\n",
        "    postal_code TEXT,\n",
        "    language_preference TEXT,\n",
        "    currency TEXT,\n",
        "    time_zone TEXT\n",
        ")\n",
        "''')\n",
        "\n",
        "# Insert some sample data\n",
        "cursor.execute(\"INSERT INTO users (name, country_of_citizenship) VALUES (?, ?)\", ('Alice', 'USA'))\n",
        "\n",
        "# Commit changes and close the connection\n",
        "conn.commit()\n",
        "conn.close()"
      ]
    },
    {
      "source": [
        "import sqlite3\n",
        "\n",
        "# Create an in-memory database\n",
        "conn = sqlite3.connect(':memory:')\n",
        "cursor = conn.cursor()\n",
        "\n",
        "# Create the users table\n",
        "cursor.execute('''\n",
        "CREATE TABLE users (\n",
        "    id INTEGER PRIMARY KEY AUTOINCREMENT,\n",
        "    name TEXT,\n",
        "    country_of_citizenship TEXT,\n",
        "    country_of_residence TEXT,\n",
        "    passport_number TEXT,\n",
        "    passport_issuing_country TEXT,\n",
        "    passport_expiration_date TEXT,\n",
        "    visa_type TEXT,\n",
        "    visa_issuing_country TEXT,\n",
        "    visa_expiration_date TEXT,\n",
        "    national_id_number TEXT,\n",
        "    international_address TEXT,\n",
        "    postal_code TEXT,\n",
        "    language_preference TEXT,\n",
        "    currency TEXT,\n",
        "    time_zone TEXT\n",
        ")\n",
        "''')\n",
        "\n",
        "# Insert some sample data\n",
        "cursor.execute(\"INSERT INTO users (name, country_of_citizenship) VALUES (?, ?)\", ('Alice', 'USA'))\n",
        "\n",
        "# Commit changes\n",
        "conn.commit()\n",
        "\n",
        "cursor.execute(\"SELECT * FROM users WHERE country_of_residence = 'France'\")\n",
        "rows = cursor.fetchall()\n",
        "\n",
        "# Close the connection\n",
        "conn.close()"
      ],
      "cell_type": "code",
      "metadata": {
        "id": "nAYrUiv2w6pP"
      },
      "execution_count": null,
      "outputs": []
    },
    {
      "source": [
        "cursor.execute(\"SELECT * FROM users WHERE country_of_residence = 'France'\")\n",
        "rows = cursor.fetchall()\n",
        "import sqlite3\n",
        "\n",
        "# Create an in-memory database\n",
        "conn = sqlite3.connect(':memory:')\n",
        "cursor = conn.cursor()\n",
        "\n",
        "# Create the users table\n",
        "cursor.execute('''\n",
        "CREATE TABLE users (\n",
        "    id INTEGER PRIMARY KEY AUTOINCREMENT,\n",
        "    name TEXT,\n",
        "    country_of_citizenship TEXT,\n",
        "    country_of_residence TEXT,\n",
        "    passport_number TEXT,\n",
        "    passport_issuing_country TEXT,\n",
        "    passport_expiration_date TEXT,\n",
        "    visa_type TEXT,\n",
        "    visa_issuing_country TEXT,\n",
        "    visa_expiration_date TEXT,\n",
        "    national_id_number TEXT,\n",
        "    international_address TEXT,\n",
        "    postal_code TEXT,\n",
        "    language_preference TEXT,\n",
        "    currency TEXT,\n",
        "    time_zone TEXT\n",
        ")\n",
        "''')\n",
        "\n",
        "# Insert some sample data\n",
        "cursor.execute(\"INSERT INTO users (name, country_of_citizenship) VALUES (?, ?)\", ('Alice', 'USA'))\n",
        "\n",
        "# Commit changes\n",
        "conn.commit()\n",
        "\n",
        "cursor.execute(\"SELECT * FROM users WHERE country_of_residence = 'France'\")\n",
        "rows = cursor.fetchall()\n",
        "\n",
        "# Close the connection\n",
        "conn.close()"
      ],
      "cell_type": "code",
      "metadata": {
        "colab": {
          "base_uri": "https://localhost:8080/",
          "height": 363
        },
        "id": "u3P0mDJPxYET",
        "outputId": "61694865-9001-4375-b7f2-74923c284074"
      },
      "execution_count": null,
      "outputs": [
        {
          "output_type": "error",
          "ename": "ProgrammingError",
          "evalue": "Cannot operate on a closed database.",
          "traceback": [
            "\u001b[0;31m---------------------------------------------------------------------------\u001b[0m",
            "\u001b[0;31mProgrammingError\u001b[0m                          Traceback (most recent call last)",
            "\u001b[0;32m<ipython-input-3-3ae1a1163605>\u001b[0m in \u001b[0;36m<cell line: 1>\u001b[0;34m()\u001b[0m\n\u001b[0;32m----> 1\u001b[0;31m \u001b[0mcursor\u001b[0m\u001b[0;34m.\u001b[0m\u001b[0mexecute\u001b[0m\u001b[0;34m(\u001b[0m\u001b[0;34m\"SELECT * FROM users WHERE country_of_residence = 'France'\"\u001b[0m\u001b[0;34m)\u001b[0m\u001b[0;34m\u001b[0m\u001b[0;34m\u001b[0m\u001b[0m\n\u001b[0m\u001b[1;32m      2\u001b[0m \u001b[0mrows\u001b[0m \u001b[0;34m=\u001b[0m \u001b[0mcursor\u001b[0m\u001b[0;34m.\u001b[0m\u001b[0mfetchall\u001b[0m\u001b[0;34m(\u001b[0m\u001b[0;34m)\u001b[0m\u001b[0;34m\u001b[0m\u001b[0;34m\u001b[0m\u001b[0m\n\u001b[1;32m      3\u001b[0m \u001b[0;32mimport\u001b[0m \u001b[0msqlite3\u001b[0m\u001b[0;34m\u001b[0m\u001b[0;34m\u001b[0m\u001b[0m\n\u001b[1;32m      4\u001b[0m \u001b[0;34m\u001b[0m\u001b[0m\n\u001b[1;32m      5\u001b[0m \u001b[0;31m# Create an in-memory database\u001b[0m\u001b[0;34m\u001b[0m\u001b[0;34m\u001b[0m\u001b[0m\n",
            "\u001b[0;31mProgrammingError\u001b[0m: Cannot operate on a closed database."
          ]
        }
      ]
    },
    {
      "source": [
        "import sqlite3\n",
        "\n",
        "# Create an in-memory database\n",
        "conn = sqlite3.connect(':memory:')\n",
        "cursor = conn.cursor()\n",
        "\n",
        "# Create the users table\n",
        "cursor.execute('''\n",
        "CREATE TABLE users (\n",
        "    id INTEGER PRIMARY KEY AUTOINCREMENT,\n",
        "    name TEXT,\n",
        "    country_of_citizenship TEXT,\n",
        "    country_of_residence TEXT,\n",
        "    passport_number TEXT,\n",
        "    passport_issuing_country TEXT,\n",
        "    passport_expiration_date TEXT,\n",
        "    visa_type TEXT,\n",
        "    visa_issuing_country TEXT,\n",
        "    visa_expiration_date TEXT,\n",
        "    national_id_number TEXT,\n",
        "    international_address TEXT,\n",
        "    postal_code TEXT,\n",
        "    language_preference TEXT,\n",
        "    currency TEXT,\n",
        "    time_zone TEXT\n",
        ")\n",
        "''')\n",
        "\n",
        "# Insert some sample data\n",
        "cursor.execute(\"INSERT INTO users (name, country_of_citizenship) VALUES (?, ?)\", ('Alice', 'USA'))\n",
        "\n",
        "# Commit changes\n",
        "conn.commit()\n",
        "\n",
        "cursor.execute(\"SELECT * FROM users WHERE country_of_residence = 'France'\")\n",
        "rows = cursor.fetchall()\n",
        "\n",
        "# Close the connection\n",
        "conn.close()"
      ],
      "cell_type": "code",
      "metadata": {
        "id": "e236UVEIxhN3"
      },
      "execution_count": null,
      "outputs": []
    },
    {
      "source": [
        "cursor.execute(\"SELECT * FROM users WHERE country_of_residence = 'France'\")\n",
        "rows = cursor.fetchall()\n",
        "import sqlite3\n",
        "\n",
        "# Create an in-memory database\n",
        "conn = sqlite3.connect(':memory:')\n",
        "cursor = conn.cursor()\n",
        "\n",
        "# Create the users table\n",
        "cursor.execute('''\n",
        "CREATE TABLE users (\n",
        "    id INTEGER PRIMARY KEY AUTOINCREMENT,\n",
        "    name TEXT,\n",
        "    country_of_citizenship TEXT,\n",
        "    country_of_residence TEXT,\n",
        "    passport_number TEXT,\n",
        "    passport_issuing_country TEXT,\n",
        "    passport_expiration_date TEXT,\n",
        "    visa_type TEXT,\n",
        "    visa_issuing_country TEXT,\n",
        "    visa_expiration_date TEXT,\n",
        "    national_id_number TEXT,\n",
        "    international_address TEXT,\n",
        "    postal_code TEXT,\n",
        "    language_preference TEXT,\n",
        "    currency TEXT,\n",
        "    time_zone TEXT\n",
        ")\n",
        "''')\n",
        "\n",
        "# Insert some sample data\n",
        "cursor.execute(\"INSERT INTO users (name, country_of_citizenship) VALUES (?, ?)\", ('Alice', 'USA'))\n",
        "\n",
        "# Execute the query before closing the connection\n",
        "cursor.execute(\"SELECT * FROM users WHERE country_of_residence = 'France'\")\n",
        "rows = cursor.fetchall()\n",
        "\n",
        "# Commit changes and close the connection\n",
        "conn.commit()\n",
        "conn.close()\n",
        "\n",
        "print(rows) # Print the results of the queryimport sqlite3\n",
        "\n",
        "# Create an in-memory database\n",
        "conn = sqlite3.connect(':memory:')\n",
        "cursor = conn.cursor()\n",
        "\n",
        "# Create the users table\n",
        "cursor.execute('''\n",
        "CREATE TABLE users (\n",
        "    id INTEGER PRIMARY KEY AUTOINCREMENT,\n",
        "    name TEXT,\n",
        "    country_of_citizenship TEXT,\n",
        "    country_of_residence TEXT,\n",
        "    passport_number TEXT,\n",
        "    passport_issuing_country TEXT,\n",
        "    passport_expiration_date TEXT,\n",
        "    visa_type TEXT,\n",
        "    visa_issuing_country TEXT,\n",
        "    visa_expiration_date TEXT,\n",
        "    national_id_number TEXT,\n",
        "    international_address TEXT,\n",
        "    postal_code TEXT,\n",
        "    language_preference TEXT,\n",
        "    currency TEXT,\n",
        "    time_zone TEXT\n",
        ")\n",
        "''')\n",
        "\n",
        "# Insert some sample data\n",
        "cursor.execute(\"INSERT INTO users (name, country_of_citizenship) VALUES (?, ?)\", ('Alice', 'USA'))\n",
        "\n",
        "# Execute the query before closing the connection\n",
        "cursor.execute(\"SELECT * FROM users WHERE country_of_residence = 'France'\")\n",
        "rows = cursor.fetchall()\n",
        "\n",
        "# Commit changes and close the connection\n",
        "conn.commit()\n",
        "conn.close()\n",
        "\n",
        "print(rows) # Print the results of the query"
      ],
      "cell_type": "code",
      "metadata": {
        "colab": {
          "base_uri": "https://localhost:8080/",
          "height": 363
        },
        "id": "VmPUVsY3C2cX",
        "outputId": "72c96e66-d18e-46cc-acb1-8ead0a19e1ab"
      },
      "execution_count": null,
      "outputs": [
        {
          "output_type": "error",
          "ename": "ProgrammingError",
          "evalue": "Cannot operate on a closed database.",
          "traceback": [
            "\u001b[0;31m---------------------------------------------------------------------------\u001b[0m",
            "\u001b[0;31mProgrammingError\u001b[0m                          Traceback (most recent call last)",
            "\u001b[0;32m<ipython-input-14-4c2e295fd7d7>\u001b[0m in \u001b[0;36m<cell line: 1>\u001b[0;34m()\u001b[0m\n\u001b[0;32m----> 1\u001b[0;31m \u001b[0mcursor\u001b[0m\u001b[0;34m.\u001b[0m\u001b[0mexecute\u001b[0m\u001b[0;34m(\u001b[0m\u001b[0;34m\"SELECT * FROM users WHERE country_of_residence = 'France'\"\u001b[0m\u001b[0;34m)\u001b[0m\u001b[0;34m\u001b[0m\u001b[0;34m\u001b[0m\u001b[0m\n\u001b[0m\u001b[1;32m      2\u001b[0m \u001b[0mrows\u001b[0m \u001b[0;34m=\u001b[0m \u001b[0mcursor\u001b[0m\u001b[0;34m.\u001b[0m\u001b[0mfetchall\u001b[0m\u001b[0;34m(\u001b[0m\u001b[0;34m)\u001b[0m\u001b[0;34m\u001b[0m\u001b[0;34m\u001b[0m\u001b[0m\n\u001b[1;32m      3\u001b[0m \u001b[0;32mimport\u001b[0m \u001b[0msqlite3\u001b[0m\u001b[0;34m\u001b[0m\u001b[0;34m\u001b[0m\u001b[0m\n\u001b[1;32m      4\u001b[0m \u001b[0;34m\u001b[0m\u001b[0m\n\u001b[1;32m      5\u001b[0m \u001b[0;31m# Create an in-memory database\u001b[0m\u001b[0;34m\u001b[0m\u001b[0;34m\u001b[0m\u001b[0m\n",
            "\u001b[0;31mProgrammingError\u001b[0m: Cannot operate on a closed database."
          ]
        }
      ]
    },
    {
      "source": [
        "import sqlite3\n",
        "\n",
        "# Create an in-memory database\n",
        "conn = sqlite3.connect(':memory:')\n",
        "cursor = conn.cursor()\n",
        "\n",
        "# Create the users table\n",
        "cursor.execute('''\n",
        "CREATE TABLE users (\n",
        "    id INTEGER PRIMARY KEY AUTOINCREMENT,\n",
        "    name TEXT,\n",
        "    country_of_citizenship TEXT,\n",
        "    country_of_residence TEXT,\n",
        "    passport_number TEXT,\n",
        "    passport_issuing_country TEXT,\n",
        "    passport_expiration_date TEXT,\n",
        "    visa_type TEXT,\n",
        "    visa_issuing_country TEXT,\n",
        "    visa_expiration_date TEXT,\n",
        "    national_id_number TEXT,\n",
        "    international_address TEXT,\n",
        "    postal_code TEXT,\n",
        "    language_preference TEXT,\n",
        "    currency TEXT,\n",
        "    time_zone TEXT\n",
        ")\n",
        "''')\n",
        "\n",
        "# Insert some sample data\n",
        "cursor.execute(\"INSERT INTO users (name, country_of_citizenship) VALUES (?, ?)\", ('Alice', 'USA'))\n",
        "\n",
        "# Execute the query before closing the connection\n",
        "cursor.execute(\"SELECT * FROM users WHERE country_of_residence = 'France'\")\n",
        "rows = cursor.fetchall()\n",
        "\n",
        "# Commit changes and close the connection\n",
        "conn.commit()\n",
        "conn.close()\n",
        "\n",
        "print(rows) # Print the results of the query\n",
        "\n",
        "cursor.execute(\"SELECT name, country_of_residence FROM users\")\n",
        "rows = cursor.fetchall()"
      ],
      "cell_type": "code",
      "metadata": {
        "colab": {
          "base_uri": "https://localhost:8080/",
          "height": 344
        },
        "id": "Il6UgMimDS3J",
        "outputId": "79955851-2332-492a-ed8c-d966795b2e4b"
      },
      "execution_count": null,
      "outputs": [
        {
          "output_type": "stream",
          "name": "stdout",
          "text": [
            "[]\n"
          ]
        },
        {
          "output_type": "error",
          "ename": "ProgrammingError",
          "evalue": "Cannot operate on a closed database.",
          "traceback": [
            "\u001b[0;31m---------------------------------------------------------------------------\u001b[0m",
            "\u001b[0;31mProgrammingError\u001b[0m                          Traceback (most recent call last)",
            "\u001b[0;32m<ipython-input-16-a78498f1a0e9>\u001b[0m in \u001b[0;36m<cell line: 42>\u001b[0;34m()\u001b[0m\n\u001b[1;32m     40\u001b[0m \u001b[0mprint\u001b[0m\u001b[0;34m(\u001b[0m\u001b[0mrows\u001b[0m\u001b[0;34m)\u001b[0m \u001b[0;31m# Print the results of the query\u001b[0m\u001b[0;34m\u001b[0m\u001b[0;34m\u001b[0m\u001b[0m\n\u001b[1;32m     41\u001b[0m \u001b[0;34m\u001b[0m\u001b[0m\n\u001b[0;32m---> 42\u001b[0;31m \u001b[0mcursor\u001b[0m\u001b[0;34m.\u001b[0m\u001b[0mexecute\u001b[0m\u001b[0;34m(\u001b[0m\u001b[0;34m\"SELECT name, country_of_residence FROM users\"\u001b[0m\u001b[0;34m)\u001b[0m\u001b[0;34m\u001b[0m\u001b[0;34m\u001b[0m\u001b[0m\n\u001b[0m\u001b[1;32m     43\u001b[0m \u001b[0mrows\u001b[0m \u001b[0;34m=\u001b[0m \u001b[0mcursor\u001b[0m\u001b[0;34m.\u001b[0m\u001b[0mfetchall\u001b[0m\u001b[0;34m(\u001b[0m\u001b[0;34m)\u001b[0m\u001b[0;34m\u001b[0m\u001b[0;34m\u001b[0m\u001b[0m\n",
            "\u001b[0;31mProgrammingError\u001b[0m: Cannot operate on a closed database."
          ]
        }
      ]
    },
    {
      "source": [
        "import sqlite3\n",
        "\n",
        "# Create an in-memory database\n",
        "conn = sqlite3.connect(':memory:')\n",
        "cursor = conn.cursor()\n",
        "\n",
        "# Create the users table\n",
        "cursor.execute('''\n",
        "CREATE TABLE users (\n",
        "    id INTEGER PRIMARY KEY AUTOINCREMENT,\n",
        "    name TEXT,\n",
        "    country_of_citizenship TEXT,\n",
        "    country_of_residence TEXT,\n",
        "    passport_number TEXT,\n",
        "    passport_issuing_country TEXT,\n",
        "    passport_expiration_date TEXT,\n",
        "    visa_type TEXT,\n",
        "    visa_issuing_country TEXT,\n",
        "    visa_expiration_date TEXT,\n",
        "    national_id_number TEXT,\n",
        "    international_address TEXT,\n",
        "    postal_code TEXT,\n",
        "    language_preference TEXT,\n",
        "    currency TEXT,\n",
        "    time_zone TEXT\n",
        ")\n",
        "''')\n",
        "\n",
        "# Insert some sample data\n",
        "cursor.execute(\"INSERT INTO users (name, country_of_citizenship) VALUES (?, ?)\", ('Alice', 'USA'))\n",
        "\n",
        "# Execute the query before closing the connection\n",
        "cursor.execute(\"SELECT * FROM users WHERE country_of_residence = 'France'\")\n",
        "rows = cursor.fetchall()\n",
        "\n",
        "# Commit changes and close the connection\n",
        "conn.commit()\n",
        "\n",
        "#This query needs to be executed before the connection is closed\n",
        "cursor.execute(\"SELECT name, country_of_residence FROM users\")\n",
        "rows = cursor.fetchall()\n",
        "print(rows) # Print the results of the query\n",
        "\n",
        "conn.close()"
      ],
      "cell_type": "code",
      "metadata": {
        "colab": {
          "base_uri": "https://localhost:8080/"
        },
        "id": "jDiaBOMiEHhG",
        "outputId": "873446c5-c9e3-46b3-a45c-5378805abbfb"
      },
      "execution_count": null,
      "outputs": [
        {
          "output_type": "stream",
          "name": "stdout",
          "text": [
            "[('Alice', None)]\n"
          ]
        }
      ]
    },
    {
      "source": [
        "cursor.execute(\"SELECT * FROM users ORDER BY name ASC\")\n",
        "rows = cursor.fetchall()\n",
        "import sqlite3\n",
        "\n",
        "# Create an in-memory database\n",
        "conn = sqlite3.connect(':memory:')\n",
        "cursor = conn.cursor()\n",
        "\n",
        "# Create the users table\n",
        "cursor.execute('''\n",
        "CREATE TABLE users (\n",
        "    id INTEGER PRIMARY KEY AUTOINCREMENT,\n",
        "    name TEXT,\n",
        "    country_of_citizenship TEXT,\n",
        "    country_of_residence TEXT,\n",
        "    passport_number TEXT,\n",
        "    passport_issuing_country TEXT,\n",
        "    passport_expiration_date TEXT,\n",
        "    visa_type TEXT,\n",
        "    visa_issuing_country TEXT,\n",
        "    visa_expiration_date TEXT,\n",
        "    national_id_number TEXT,\n",
        "    international_address TEXT,\n",
        "    postal_code TEXT,\n",
        "    language_preference TEXT,\n",
        "    currency TEXT,\n",
        "    time_zone TEXT\n",
        ")\n",
        "''')\n",
        "\n",
        "# Insert some sample data\n",
        "cursor.execute(\"INSERT INTO users (name, country_of_citizenship) VALUES (?, ?)\", ('Alice', 'USA'))\n",
        "\n",
        "# Execute the query before closing the connection\n",
        "cursor.execute(\"SELECT * FROM users WHERE country_of_residence = 'France'\")\n",
        "rows = cursor.fetchall()\n",
        "\n",
        "# Commit changes and close the connection\n",
        "conn.commit()\n",
        "\n",
        "#This query needs to be executed before the connection is closed\n",
        "cursor.execute(\"SELECT name, country_of_residence FROM users\")\n",
        "rows = cursor.fetchall()\n",
        "print(rows) # Print the results of the query\n",
        "\n",
        "conn.close()"
      ],
      "cell_type": "code",
      "metadata": {
        "colab": {
          "base_uri": "https://localhost:8080/",
          "height": 344
        },
        "id": "X6ZcKCR0ERpg",
        "outputId": "5b91d5b7-1509-4259-b484-5bf0791a0ecc"
      },
      "execution_count": null,
      "outputs": [
        {
          "output_type": "error",
          "ename": "ProgrammingError",
          "evalue": "Cannot operate on a closed database.",
          "traceback": [
            "\u001b[0;31m---------------------------------------------------------------------------\u001b[0m",
            "\u001b[0;31mProgrammingError\u001b[0m                          Traceback (most recent call last)",
            "\u001b[0;32m<ipython-input-19-bbbb7ddbd838>\u001b[0m in \u001b[0;36m<cell line: 1>\u001b[0;34m()\u001b[0m\n\u001b[0;32m----> 1\u001b[0;31m \u001b[0mcursor\u001b[0m\u001b[0;34m.\u001b[0m\u001b[0mexecute\u001b[0m\u001b[0;34m(\u001b[0m\u001b[0;34m\"SELECT * FROM users ORDER BY name ASC\"\u001b[0m\u001b[0;34m)\u001b[0m\u001b[0;34m\u001b[0m\u001b[0;34m\u001b[0m\u001b[0m\n\u001b[0m\u001b[1;32m      2\u001b[0m \u001b[0mrows\u001b[0m \u001b[0;34m=\u001b[0m \u001b[0mcursor\u001b[0m\u001b[0;34m.\u001b[0m\u001b[0mfetchall\u001b[0m\u001b[0;34m(\u001b[0m\u001b[0;34m)\u001b[0m\u001b[0;34m\u001b[0m\u001b[0;34m\u001b[0m\u001b[0m\n\u001b[1;32m      3\u001b[0m \u001b[0;32mimport\u001b[0m \u001b[0msqlite3\u001b[0m\u001b[0;34m\u001b[0m\u001b[0;34m\u001b[0m\u001b[0m\n\u001b[1;32m      4\u001b[0m \u001b[0;34m\u001b[0m\u001b[0m\n\u001b[1;32m      5\u001b[0m \u001b[0;31m# Create an in-memory database\u001b[0m\u001b[0;34m\u001b[0m\u001b[0;34m\u001b[0m\u001b[0m\n",
            "\u001b[0;31mProgrammingError\u001b[0m: Cannot operate on a closed database."
          ]
        }
      ]
    },
    {
      "source": [
        "cursor.execute(\"SELECT * FROM users WHERE country_of_residence = 'France'\")\n",
        "rows = cursor.fetchall()\n",
        "import sqlite3\n",
        "\n",
        "# Create an in-memory database\n",
        "conn = sqlite3.connect(':memory:')\n",
        "cursor = conn.cursor()\n",
        "\n",
        "# Create the users table\n",
        "cursor.execute('''\n",
        "CREATE TABLE users (\n",
        "    id INTEGER PRIMARY KEY AUTOINCREMENT,\n",
        "    name TEXT,\n",
        "    country_of_citizenship TEXT,\n",
        "    country_of_residence TEXT,\n",
        "    passport_number TEXT,\n",
        "    passport_issuing_country TEXT,\n",
        "    passport_expiration_date TEXT,\n",
        "    visa_type TEXT,\n",
        "    visa_issuing_country TEXT,\n",
        "    visa_expiration_date TEXT,\n",
        "    national_id_number TEXT,\n",
        "    international_address TEXT,\n",
        "    postal_code TEXT,\n",
        "    language_preference TEXT,\n",
        "    currency TEXT,\n",
        "    time_zone TEXT\n",
        ")\n",
        "''')\n",
        "\n",
        "# Insert some sample data\n",
        "cursor.execute(\"INSERT INTO users (name, country_of_citizenship) VALUES (?, ?)\", ('Alice', 'USA'))\n",
        "\n",
        "# Execute the query before closing the connection\n",
        "cursor.execute(\"SELECT * FROM users WHERE country_of_residence = 'France'\")\n",
        "rows = cursor.fetchall()\n",
        "\n",
        "#This query needs to be executed before the connection is closed\n",
        "cursor.execute(\"SELECT name, country_of_residence FROM users\")\n",
        "rows = cursor.fetchall()\n",
        "print(rows) # Print the results of the query\n",
        "\n",
        "# Commit changes and close the connection\n",
        "conn.commit()\n",
        "\n",
        "# Execute the query before closing the connection\n",
        "cursor.execute(\"SELECT * FROM users ORDER BY name ASC\")\n",
        "rows = cursor.fetchall()\n",
        "print(rows)\n",
        "\n",
        "conn.close()"
      ],
      "cell_type": "code",
      "metadata": {
        "id": "Q6mUFhpaEa1k",
        "outputId": "54e556f4-fe06-4cbf-af01-7cbc83388881",
        "colab": {
          "base_uri": "https://localhost:8080/",
          "height": 363
        }
      },
      "execution_count": null,
      "outputs": [
        {
          "output_type": "error",
          "ename": "ProgrammingError",
          "evalue": "Cannot operate on a closed database.",
          "traceback": [
            "\u001b[0;31m---------------------------------------------------------------------------\u001b[0m",
            "\u001b[0;31mProgrammingError\u001b[0m                          Traceback (most recent call last)",
            "\u001b[0;32m<ipython-input-6-49ea67845309>\u001b[0m in \u001b[0;36m<cell line: 1>\u001b[0;34m()\u001b[0m\n\u001b[0;32m----> 1\u001b[0;31m \u001b[0mcursor\u001b[0m\u001b[0;34m.\u001b[0m\u001b[0mexecute\u001b[0m\u001b[0;34m(\u001b[0m\u001b[0;34m\"SELECT * FROM users WHERE country_of_residence = 'France'\"\u001b[0m\u001b[0;34m)\u001b[0m\u001b[0;34m\u001b[0m\u001b[0;34m\u001b[0m\u001b[0m\n\u001b[0m\u001b[1;32m      2\u001b[0m \u001b[0mrows\u001b[0m \u001b[0;34m=\u001b[0m \u001b[0mcursor\u001b[0m\u001b[0;34m.\u001b[0m\u001b[0mfetchall\u001b[0m\u001b[0;34m(\u001b[0m\u001b[0;34m)\u001b[0m\u001b[0;34m\u001b[0m\u001b[0;34m\u001b[0m\u001b[0m\n\u001b[1;32m      3\u001b[0m \u001b[0;32mimport\u001b[0m \u001b[0msqlite3\u001b[0m\u001b[0;34m\u001b[0m\u001b[0;34m\u001b[0m\u001b[0m\n\u001b[1;32m      4\u001b[0m \u001b[0;34m\u001b[0m\u001b[0m\n\u001b[1;32m      5\u001b[0m \u001b[0;31m# Create an in-memory database\u001b[0m\u001b[0;34m\u001b[0m\u001b[0;34m\u001b[0m\u001b[0m\n",
            "\u001b[0;31mProgrammingError\u001b[0m: Cannot operate on a closed database."
          ]
        }
      ]
    },
    {
      "source": [
        "import sqlite3\n",
        "cursor.execute(\"SELECT name, country_of_residence FROM users\")\n",
        "rows = cursor.fetchall()\n",
        "\n",
        "# Create an in-memory database\n",
        "conn = sqlite3.connect(':memory:')\n",
        "cursor = conn.cursor()\n",
        "\n",
        "# Create the users table\n",
        "cursor.execute('''\n",
        "CREATE TABLE users (\n",
        "    id INTEGER PRIMARY KEY AUTOINCREMENT,\n",
        "    name TEXT,\n",
        "    country_of_citizenship TEXT,\n",
        "    country_of_residence TEXT,\n",
        "    passport_number TEXT,\n",
        "    passport_issuing_country TEXT,\n",
        "    passport_expiration_date TEXT,\n",
        "    visa_type TEXT,\n",
        "    visa_issuing_country TEXT,\n",
        "    visa_expiration_date TEXT,\n",
        "    national_id_number TEXT,\n",
        "    international_address TEXT,\n",
        "    postal_code TEXT,\n",
        "    language_preference TEXT,\n",
        "    currency TEXT,\n",
        "    time_zone TEXT\n",
        ")\n",
        "''')\n",
        "\n",
        "# Insert some sample data\n",
        "cursor.execute(\"INSERT INTO users (name, country_of_citizenship) VALUES (?, ?)\", ('Alice', 'USA'))\n",
        "\n",
        "# Execute the query before closing the connection\n",
        "cursor.execute(\"SELECT * FROM users WHERE country_of_residence = 'France'\")\n",
        "rows = cursor.fetchall()\n",
        "\n",
        "#This query needs to be executed before the connection is closed\n",
        "cursor.execute(\"SELECT name, country_of_residence FROM users\")\n",
        "rows = cursor.fetchall()\n",
        "print(rows) # Print the results of the query\n",
        "\n",
        "# Execute the query before closing the connection\n",
        "cursor.execute(\"SELECT * FROM users ORDER BY name ASC\")\n",
        "rows = cursor.fetchall()\n",
        "print(rows)\n",
        "\n",
        "# Commit changes and close the connection\n",
        "conn.commit()\n",
        "conn.close()"
      ],
      "cell_type": "code",
      "metadata": {
        "colab": {
          "base_uri": "https://localhost:8080/",
          "height": 344
        },
        "id": "YJHCqdQvzSaO",
        "outputId": "cf30b326-a6ea-4474-be6b-a0c9493257fd"
      },
      "execution_count": null,
      "outputs": [
        {
          "output_type": "error",
          "ename": "ProgrammingError",
          "evalue": "Cannot operate on a closed database.",
          "traceback": [
            "\u001b[0;31m---------------------------------------------------------------------------\u001b[0m",
            "\u001b[0;31mProgrammingError\u001b[0m                          Traceback (most recent call last)",
            "\u001b[0;32m<ipython-input-8-bc94a24283d9>\u001b[0m in \u001b[0;36m<cell line: 2>\u001b[0;34m()\u001b[0m\n\u001b[1;32m      1\u001b[0m \u001b[0;32mimport\u001b[0m \u001b[0msqlite3\u001b[0m\u001b[0;34m\u001b[0m\u001b[0;34m\u001b[0m\u001b[0m\n\u001b[0;32m----> 2\u001b[0;31m \u001b[0mcursor\u001b[0m\u001b[0;34m.\u001b[0m\u001b[0mexecute\u001b[0m\u001b[0;34m(\u001b[0m\u001b[0;34m\"SELECT name, country_of_residence FROM users\"\u001b[0m\u001b[0;34m)\u001b[0m\u001b[0;34m\u001b[0m\u001b[0;34m\u001b[0m\u001b[0m\n\u001b[0m\u001b[1;32m      3\u001b[0m \u001b[0mrows\u001b[0m \u001b[0;34m=\u001b[0m \u001b[0mcursor\u001b[0m\u001b[0;34m.\u001b[0m\u001b[0mfetchall\u001b[0m\u001b[0;34m(\u001b[0m\u001b[0;34m)\u001b[0m\u001b[0;34m\u001b[0m\u001b[0;34m\u001b[0m\u001b[0m\n\u001b[1;32m      4\u001b[0m \u001b[0;34m\u001b[0m\u001b[0m\n\u001b[1;32m      5\u001b[0m \u001b[0;31m# Create an in-memory database\u001b[0m\u001b[0;34m\u001b[0m\u001b[0;34m\u001b[0m\u001b[0m\n",
            "\u001b[0;31mProgrammingError\u001b[0m: Cannot operate on a closed database."
          ]
        }
      ]
    },
    {
      "source": [
        "import sqlite3\n",
        "\n",
        "# Create an in-memory database\n",
        "conn = sqlite3.connect(':memory:')\n",
        "cursor = conn.cursor()\n",
        "\n",
        "# Create the users table\n",
        "cursor.execute('''\n",
        "CREATE TABLE users (\n",
        "    id INTEGER PRIMARY KEY AUTOINCREMENT,\n",
        "    name TEXT,\n",
        "    country_of_citizenship TEXT,\n",
        "    country_of_residence TEXT,\n",
        "    passport_number TEXT,\n",
        "    passport_issuing_country TEXT,\n",
        "    passport_expiration_date TEXT,\n",
        "    visa_type TEXT,\n",
        "    visa_issuing_country TEXT,\n",
        "    visa_expiration_date TEXT,\n",
        "    national_id_number TEXT,\n",
        "    international_address TEXT,\n",
        "    postal_code TEXT,\n",
        "    language_preference TEXT,\n",
        "    currency TEXT,\n",
        "    time_zone TEXT\n",
        ")\n",
        "''')\n",
        "\n",
        "# Insert some sample data\n",
        "cursor.execute(\"INSERT INTO users (name, country_of_citizenship) VALUES (?, ?)\", ('Alice', 'USA'))\n",
        "\n",
        "# Execute the query before closing the connection\n",
        "cursor.execute(\"SELECT * FROM users WHERE country_of_residence = 'France'\")\n",
        "rows = cursor.fetchall()\n",
        "\n",
        "#This query needs to be executed before the connection is closed\n",
        "cursor.execute(\"SELECT name, country_of_residence FROM users\")\n",
        "rows = cursor.fetchall()\n",
        "print(rows) # Print the results of the query\n",
        "\n",
        "# Execute the query before closing the connection\n",
        "cursor.execute(\"SELECT * FROM users ORDER BY name ASC\")\n",
        "rows = cursor.fetchall()\n",
        "print(rows)\n",
        "\n",
        "# Commit changes and close the connection\n",
        "conn.commit()\n",
        "conn.close()"
      ],
      "cell_type": "code",
      "metadata": {
        "id": "WRdV3U15zjiq",
        "outputId": "e5e4bd2d-ce9c-4956-f6fa-205bad57f6ca",
        "colab": {
          "base_uri": "https://localhost:8080/"
        }
      },
      "execution_count": null,
      "outputs": [
        {
          "output_type": "stream",
          "name": "stdout",
          "text": [
            "[('Alice', None)]\n",
            "[(1, 'Alice', 'USA', None, None, None, None, None, None, None, None, None, None, None, None, None)]\n"
          ]
        }
      ]
    }
  ]
}